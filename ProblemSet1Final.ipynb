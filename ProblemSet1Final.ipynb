{
 "cells": [
  {
   "cell_type": "markdown",
   "id": "dc80cf40",
   "metadata": {},
   "source": [
    "# Problem Set 1"
   ]
  },
  {
   "cell_type": "markdown",
   "id": "d23b6f37",
   "metadata": {},
   "source": [
    "## Question 1: Data types"
   ]
  },
  {
   "cell_type": "code",
   "execution_count": 2,
   "id": "ca59c591",
   "metadata": {},
   "outputs": [
    {
     "name": "stdout",
     "output_type": "stream",
     "text": [
      "True\n",
      "10\n",
      "55\n",
      "52\n",
      "2.5\n",
      "1\n",
      "False\n",
      "3.141592653589793\n"
     ]
    }
   ],
   "source": [
    "# 5                 => Integer/Number\n",
    "# 5.0               => Decimal/Float\n",
    "print(5>1)      #   => True - Expressions (Boolean)\n",
    "#'5'                => String\n",
    "print(5*2)      #   => Integer/Number - Expressions (Algebric)\n",
    "print('5'*2)    #   => String\n",
    "print('5'+'2')  #   => String\n",
    "print(5/2)      #   => Decimal/Float - Expressions (Algebric)\n",
    "print(5%2)      #   => Integer/Number - Expressions (Algebric)\n",
    "{5, 2, 1}       #   => Set/List\n",
    "print(5==3)     #   => False - Expressions (Boolean)\n",
    "import math\n",
    "print(math.pi)  #   => Decimal/Float - Python Standard Library"
   ]
  },
  {
   "cell_type": "code",
   "execution_count": 3,
   "id": "8c03203c",
   "metadata": {},
   "outputs": [
    {
     "name": "stdout",
     "output_type": "stream",
     "text": [
      "<class 'int'>\n",
      "<class 'float'>\n",
      "<class 'bool'>\n",
      "<class 'str'>\n",
      "<class 'int'>\n",
      "<class 'str'>\n",
      "<class 'str'>\n",
      "<class 'float'>\n",
      "<class 'int'>\n",
      "<class 'set'>\n",
      "<class 'bool'>\n",
      "<class 'float'>\n"
     ]
    }
   ],
   "source": [
    "print(type(5))\n",
    "print(type(5.0))\n",
    "print(type(5>1))\n",
    "print(type('5'))\n",
    "print(type(5*2))\n",
    "print(type('5'*2))\n",
    "print(type('5'+'2'))\n",
    "print(type(5/2))\n",
    "print(type(5%2))\n",
    "print(type({5, 2, 1} ))\n",
    "print(type(5==3))\n",
    "import math\n",
    "print(type(math.pi))"
   ]
  },
  {
   "cell_type": "markdown",
   "id": "98aa004f",
   "metadata": {},
   "source": [
    "## Question 2: Evaluate python expressions"
   ]
  },
  {
   "cell_type": "code",
   "execution_count": 4,
   "id": "8360fc9a",
   "metadata": {},
   "outputs": [
    {
     "name": "stdout",
     "output_type": "stream",
     "text": [
      "34\n"
     ]
    }
   ],
   "source": [
    "# How many letters are there in 'Supercalifragilisticexpialidocious'?\n",
    "\n",
    "a = 'Supercalifragilisticexpialidocious'\n",
    "print(len(a))"
   ]
  },
  {
   "cell_type": "code",
   "execution_count": 5,
   "id": "dea0e414",
   "metadata": {},
   "outputs": [
    {
     "name": "stdout",
     "output_type": "stream",
     "text": [
      "True\n"
     ]
    }
   ],
   "source": [
    "# Does 'Supercalifragilisticexpialidocious' contain 'ice' as a substring?\n",
    "\n",
    "a = 'Supercalifragilisticexpialidocious'\n",
    "print('ice' in a)"
   ]
  },
  {
   "cell_type": "code",
   "execution_count": 52,
   "id": "e63b0081",
   "metadata": {},
   "outputs": [
    {
     "name": "stdout",
     "output_type": "stream",
     "text": [
      "Supercalifragilisticexpialidocious Bababadalgharaghtakamminarronnkonn\n",
      "Supercalifragilisticexpialidocious\n"
     ]
    }
   ],
   "source": [
    "# Which of the following words is the longest:\n",
    "# Supercalifragilisticexpialidocious, Honorificabilitudinitatibus, or Bababadalgharaghtakamminarronnkonn?\n",
    "\n",
    "a = 'Supercalifragilisticexpialidocious'\n",
    "b = 'Honorificabilitudinitatibus'\n",
    "c = 'Bababadalgharaghtakamminarronnkonn'\n",
    "\n",
    "s = [a,b,c]\n",
    "\n",
    "#print(s)\n",
    "\n",
    "if len(a) == max(s):\n",
    "    print(max(s) + ' ' + a)\n",
    "else:\n",
    "    if len(b) == max(s):\n",
    "        print(max(s) +  ' ' + b)\n",
    "    else:\n",
    "        print(max(s) +  ' ' + c)\n",
    "\n",
    "print(max(s))\n",
    "        "
   ]
  },
  {
   "cell_type": "code",
   "execution_count": 7,
   "id": "3602eef2",
   "metadata": {},
   "outputs": [
    {
     "name": "stdout",
     "output_type": "stream",
     "text": [
      "['Bartok', 'Bellini', 'Berlioz', 'Bernstein', 'Borodin', 'Brian', 'Buxtehude']\n",
      "Bartok\n",
      "Buxtehude\n"
     ]
    }
   ],
   "source": [
    "# Which composer comes first in the dictionary: 'Berlioz', 'Borodin', 'Brian','Bartok', 'Bellini', 'Buxtehude', 'Bernstein'. \n",
    "\n",
    "composer = ['Berlioz', 'Borodin', 'Brian','Bartok', 'Bellini', 'Buxtehude', 'Bernstein']\n",
    "composer.sort()\n",
    "print(composer)\n",
    "print(composer[0])\n",
    "\n",
    "# Which one comes last?\n",
    "print(composer[6])\n"
   ]
  },
  {
   "cell_type": "markdown",
   "id": "c3af5e37",
   "metadata": {},
   "source": [
    "## Question 3: Function Triangle Area"
   ]
  },
  {
   "cell_type": "code",
   "execution_count": 8,
   "id": "0e2bb147",
   "metadata": {},
   "outputs": [
    {
     "name": "stdout",
     "output_type": "stream",
     "text": [
      "Enter the length for the first side of the triangle: 2\n",
      "Enter the length for the second side of the triangle: 2\n",
      "Enter the length for the third side of the triangle: 2\n",
      "1.7320508075688772\n"
     ]
    }
   ],
   "source": [
    "inputa = input('Enter the length for the first side of the triangle: ')\n",
    "inputb = input('Enter the length for the second side of the triangle: ')\n",
    "inputc = input('Enter the length for the third side of the triangle: ')\n",
    "\n",
    "a = int(inputa)\n",
    "b = int(inputb)\n",
    "c = int(inputc)\n",
    "\n",
    "s = (a+b+c)/2\n",
    "\n",
    "import math\n",
    "area = math.sqrt(s*(s-a)*(s-b)*(s-c))\n",
    "print(area)"
   ]
  },
  {
   "cell_type": "markdown",
   "id": "0735a6cf",
   "metadata": {},
   "source": [
    "## Question 4: Separate odd even intergers in array"
   ]
  },
  {
   "cell_type": "code",
   "execution_count": 11,
   "id": "07aa291b",
   "metadata": {},
   "outputs": [
    {
     "name": "stdout",
     "output_type": "stream",
     "text": [
      "Input the number of elements to be stored in the array: 5\n",
      "Input 5 elements in the array: \n",
      "element - 0 : 25\n",
      "element - 1 : 47\n",
      "element - 2 : 42\n",
      "element - 3 : 56\n",
      "element - 4 : 32\n",
      "The Even elements are:  [42, 56, 32]\n",
      "The Odd elements are:  [25, 47]\n"
     ]
    }
   ],
   "source": [
    "InputNum = input(\"Input the number of elements to be stored in the array: \")\n",
    "Num = int(InputNum)\n",
    "\n",
    "print(\"Input 5 elements in the array: \")\n",
    "element0 = int(input(\"element - 0 : \"))\n",
    "element1 = int(input(\"element - 1 : \"))\n",
    "element2 = int(input(\"element - 2 : \"))\n",
    "element3 = int(input(\"element - 3 : \"))\n",
    "element4 = int(input(\"element - 4 : \"))\n",
    "\n",
    "s = [element0, element1, element2, element3, element4]\n",
    "#print(s)\n",
    "\n",
    "def oddeven(s):\n",
    "    odd=[]\n",
    "    even=[]\n",
    "    for i in s:\n",
    "        if i % 2 == 0:\n",
    "            even.append(i)\n",
    "            #print(\"The Even elements are: \")\n",
    "        else:\n",
    "            odd.append(i)\n",
    "            #print(\"The Odd elements are : \")\n",
    "    print(\"The Even elements are: \", even)\n",
    "    print(\"The Odd elements are: \", odd)\n",
    "oddeven(s)"
   ]
  },
  {
   "cell_type": "markdown",
   "id": "4003dc92",
   "metadata": {},
   "source": [
    "## Question 5: Point in the rectangle"
   ]
  },
  {
   "cell_type": "code",
   "execution_count": 81,
   "id": "915dd172",
   "metadata": {},
   "outputs": [
    {
     "name": "stdout",
     "output_type": "stream",
     "text": [
      "Enter x: -1\n",
      "Enter y: -1\n",
      "Enter x1: 0\n",
      "Enter y1: 0\n",
      "Enter x2: 2\n",
      "Enter y2: 3\n",
      "False\n"
     ]
    }
   ],
   "source": [
    "#a\n",
    "\n",
    "x = int(input(\"Enter x: \"))\n",
    "y = int(input(\"Enter y: \"))\n",
    "x1 = int(input(\"Enter x1: \"))\n",
    "y1 = int(input(\"Enter y1: \"))\n",
    "x2 = int(input(\"Enter x2: \"))\n",
    "y2 = int(input(\"Enter y2: \"))\n",
    "\n",
    "def inside(x,y,x1,y1,x2,y2):\n",
    "    if x >= x1 and y >= y1:\n",
    "        if x <= x2 and y <= y2:\n",
    "            print(\"True\")\n",
    "        else:\n",
    "            print(\"False\")\n",
    "    else:\n",
    "            print(\"False\")\n",
    "inside(x,y,x1,y1,x2,y2)"
   ]
  },
  {
   "cell_type": "markdown",
   "id": "0b7e8ce9",
   "metadata": {},
   "source": [
    "## Question 6: pig-Latin rules"
   ]
  },
  {
   "cell_type": "code",
   "execution_count": 42,
   "id": "76b8689e",
   "metadata": {},
   "outputs": [
    {
     "name": "stdout",
     "output_type": "stream",
     "text": [
      "Enter a word: Enter\n",
      "enterway\n"
     ]
    }
   ],
   "source": [
    "Input = input(\"Enter a word: \")\n",
    "vowels = \"aeiou\"\n",
    "\n",
    "def pig(Input):\n",
    "    if Input[0].lower() in vowels:\n",
    "        Input1 = Input+'way'\n",
    "        print(Input1.lower())\n",
    "    else:\n",
    "        Input2 = Input+(Input[0])+'ay' #Input[1]+Input[2]+Input[3]+Input[4]+Input[0]\n",
    "        Input2 = Input2[1:]\n",
    "        print(Input2.lower())\n",
    "pig(Input)"
   ]
  },
  {
   "cell_type": "markdown",
   "id": "b933d78a",
   "metadata": {},
   "source": [
    "## Question 7: Patient blood type"
   ]
  },
  {
   "cell_type": "code",
   "execution_count": 71,
   "id": "b5deccbb",
   "metadata": {},
   "outputs": [
    {
     "name": "stdout",
     "output_type": "stream",
     "text": [
      "Enter the filename: bloodtype1.txt\n",
      "There are 15 patients of blood type A\n",
      "There is 1 patient of blood type B\n",
      "There are 13 patients of blood type AB\n",
      "There are 15 patients of blood type O\n",
      "There are 0 patients of blood type OO\n"
     ]
    }
   ],
   "source": [
    "file = input(\"Enter the filename: \")\n",
    "#filename='bloodtype1.txt'\n",
    "\n",
    "def bldcount(filename):\n",
    "    infile = open(filename, 'r')\n",
    "    content = infile.read()\n",
    "    infile.close()\n",
    "    bloodtypeAB = content.count('AB')\n",
    "    bloodtypeO = content.count('O')\n",
    "    bloodtypeOO = content.count('OO')\n",
    "    bloodtypeA = content.count('A ')\n",
    "    bloodtypeB = content.count(' B')\n",
    "\n",
    "    print(\"There are \"+ str(bloodtypeA) + \" patients of blood type A\")\n",
    "    print(\"There is \"+ str(bloodtypeB) + \" patient of blood type B\")\n",
    "    print(\"There are \"+ str(bloodtypeAB) + \" patients of blood type AB\")\n",
    "    print(\"There are \"+ str(bloodtypeO) + \" patients of blood type O\")\n",
    "    print(\"There are \"+ str(bloodtypeOO) + \" patients of blood type OO\")\n",
    "bldcount(filename)"
   ]
  },
  {
   "cell_type": "markdown",
   "id": "b507bd11",
   "metadata": {},
   "source": [
    "## Question 8: Currency conversion"
   ]
  },
  {
   "cell_type": "code",
   "execution_count": 97,
   "id": "77cd8668",
   "metadata": {},
   "outputs": [
    {
     "name": "stdout",
     "output_type": "stream",
     "text": [
      "Enter the currency to be converted into USD: JPY\n",
      "Enter the amount for conversion: 100\n"
     ]
    },
    {
     "data": {
      "text/plain": [
       "1.2414"
      ]
     },
     "execution_count": 97,
     "metadata": {},
     "output_type": "execute_result"
    }
   ],
   "source": [
    "currency = input(\"Enter the currency to be converted into USD: \")\n",
    "amount = int(input(\"Enter the amount for conversion: \"))\n",
    "#rate = 1.22\n",
    "\n",
    "def curconv(currency,amount):\n",
    "    infile = open('currencies.txt')\n",
    "    content = infile.readlines()\n",
    "    for line in content:\n",
    "        if line.find(currency)!= -1:\n",
    "            rate = float(line[4:13])\n",
    "            newcurrency = rate * amount\n",
    "            return newcurrency\n",
    "curconv(currency,amount)"
   ]
  },
  {
   "cell_type": "markdown",
   "id": "2c284e09",
   "metadata": {},
   "source": [
    "## Question 9: Identify exception"
   ]
  },
  {
   "cell_type": "code",
   "execution_count": 72,
   "id": "ea689df9",
   "metadata": {},
   "outputs": [
    {
     "ename": "TypeError",
     "evalue": "unsupported operand type(s) for +: 'int' and 'str'",
     "output_type": "error",
     "traceback": [
      "\u001b[1;31m---------------------------------------------------------------------------\u001b[0m",
      "\u001b[1;31mTypeError\u001b[0m                                 Traceback (most recent call last)",
      "Cell \u001b[1;32mIn[72], line 1\u001b[0m\n\u001b[1;32m----> 1\u001b[0m \u001b[38;5;28mprint\u001b[39m(\u001b[38;5;241;43m6\u001b[39;49m\u001b[38;5;241;43m+\u001b[39;49m\u001b[38;5;124;43m'\u001b[39;49m\u001b[38;5;124;43ma\u001b[39;49m\u001b[38;5;124;43m'\u001b[39;49m)\n",
      "\u001b[1;31mTypeError\u001b[0m: unsupported operand type(s) for +: 'int' and 'str'"
     ]
    }
   ],
   "source": [
    "print(6+'a')  \n",
    "\n",
    "# Answer: Exception Type = Type Error"
   ]
  },
  {
   "cell_type": "code",
   "execution_count": 75,
   "id": "a354be4f",
   "metadata": {},
   "outputs": [
    {
     "ename": "IndexError",
     "evalue": "list index out of range",
     "output_type": "error",
     "traceback": [
      "\u001b[1;31m---------------------------------------------------------------------------\u001b[0m",
      "\u001b[1;31mIndexError\u001b[0m                                Traceback (most recent call last)",
      "Cell \u001b[1;32mIn[75], line 2\u001b[0m\n\u001b[0;32m      1\u001b[0m lst\u001b[38;5;241m=\u001b[39m[\u001b[38;5;241m1\u001b[39m,\u001b[38;5;241m2\u001b[39m,\u001b[38;5;241m3\u001b[39m,\u001b[38;5;241m4\u001b[39m,\u001b[38;5;241m5\u001b[39m,\u001b[38;5;241m6\u001b[39m,\u001b[38;5;241m7\u001b[39m,\u001b[38;5;241m8\u001b[39m,\u001b[38;5;241m9\u001b[39m,\u001b[38;5;241m10\u001b[39m]\n\u001b[1;32m----> 2\u001b[0m \u001b[38;5;28mprint\u001b[39m(\u001b[43mlst\u001b[49m\u001b[43m[\u001b[49m\u001b[38;5;241;43m11\u001b[39;49m\u001b[43m]\u001b[49m)\n",
      "\u001b[1;31mIndexError\u001b[0m: list index out of range"
     ]
    }
   ],
   "source": [
    "lst=[1,2,3,4,5,6,7,8,9,10]\n",
    "print(lst[11])\n",
    "\n",
    "# Answer: Exception Type = Index Error"
   ]
  },
  {
   "cell_type": "code",
   "execution_count": 76,
   "id": "a19fe0b4",
   "metadata": {},
   "outputs": [
    {
     "ename": "ValueError",
     "evalue": "math domain error",
     "output_type": "error",
     "traceback": [
      "\u001b[1;31m---------------------------------------------------------------------------\u001b[0m",
      "\u001b[1;31mValueError\u001b[0m                                Traceback (most recent call last)",
      "Cell \u001b[1;32mIn[76], line 2\u001b[0m\n\u001b[0;32m      1\u001b[0m \u001b[38;5;28;01mimport\u001b[39;00m \u001b[38;5;21;01mmath\u001b[39;00m\n\u001b[1;32m----> 2\u001b[0m \u001b[38;5;28mprint\u001b[39m(\u001b[43mmath\u001b[49m\u001b[38;5;241;43m.\u001b[39;49m\u001b[43msqrt\u001b[49m\u001b[43m(\u001b[49m\u001b[38;5;241;43m-\u001b[39;49m\u001b[38;5;241;43m1.0\u001b[39;49m\u001b[43m)\u001b[49m)\n",
      "\u001b[1;31mValueError\u001b[0m: math domain error"
     ]
    }
   ],
   "source": [
    "import math\n",
    "print(math.sqrt(-1.0))\n",
    "\n",
    "# Answer: Exception Type = Value Error"
   ]
  },
  {
   "cell_type": "code",
   "execution_count": 77,
   "id": "32595ad3",
   "metadata": {},
   "outputs": [
    {
     "ename": "NameError",
     "evalue": "name 'x' is not defined",
     "output_type": "error",
     "traceback": [
      "\u001b[1;31m---------------------------------------------------------------------------\u001b[0m",
      "\u001b[1;31mNameError\u001b[0m                                 Traceback (most recent call last)",
      "Cell \u001b[1;32mIn[77], line 2\u001b[0m\n\u001b[0;32m      1\u001b[0m y\u001b[38;5;241m=\u001b[39m\u001b[38;5;241m3\u001b[39m\n\u001b[1;32m----> 2\u001b[0m \u001b[38;5;28mprint\u001b[39m(\u001b[43mx\u001b[49m)\n",
      "\u001b[1;31mNameError\u001b[0m: name 'x' is not defined"
     ]
    }
   ],
   "source": [
    "y=3\n",
    "print(x)   \n",
    "\n",
    "# Answer: Exception Type = Name Error"
   ]
  },
  {
   "cell_type": "code",
   "execution_count": 78,
   "id": "ad94a67b",
   "metadata": {},
   "outputs": [
    {
     "ename": "FileNotFoundError",
     "evalue": "[Errno 2] No such file or directory: 'bloodtyp.txt'",
     "output_type": "error",
     "traceback": [
      "\u001b[1;31m---------------------------------------------------------------------------\u001b[0m",
      "\u001b[1;31mFileNotFoundError\u001b[0m                         Traceback (most recent call last)",
      "Cell \u001b[1;32mIn[78], line 2\u001b[0m\n\u001b[0;32m      1\u001b[0m filename \u001b[38;5;241m=\u001b[39m\u001b[38;5;124m'\u001b[39m\u001b[38;5;124mbloodtyp.txt\u001b[39m\u001b[38;5;124m'\u001b[39m\n\u001b[1;32m----> 2\u001b[0m infile \u001b[38;5;241m=\u001b[39m \u001b[38;5;28;43mopen\u001b[39;49m\u001b[43m(\u001b[49m\u001b[43mfilename\u001b[49m\u001b[43m,\u001b[49m\u001b[43m \u001b[49m\u001b[38;5;124;43m'\u001b[39;49m\u001b[38;5;124;43mr\u001b[39;49m\u001b[38;5;124;43m'\u001b[39;49m\u001b[43m)\u001b[49m\n",
      "File \u001b[1;32m~\\anaconda3\\lib\\site-packages\\IPython\\core\\interactiveshell.py:282\u001b[0m, in \u001b[0;36m_modified_open\u001b[1;34m(file, *args, **kwargs)\u001b[0m\n\u001b[0;32m    275\u001b[0m \u001b[38;5;28;01mif\u001b[39;00m file \u001b[38;5;129;01min\u001b[39;00m {\u001b[38;5;241m0\u001b[39m, \u001b[38;5;241m1\u001b[39m, \u001b[38;5;241m2\u001b[39m}:\n\u001b[0;32m    276\u001b[0m     \u001b[38;5;28;01mraise\u001b[39;00m \u001b[38;5;167;01mValueError\u001b[39;00m(\n\u001b[0;32m    277\u001b[0m         \u001b[38;5;124mf\u001b[39m\u001b[38;5;124m\"\u001b[39m\u001b[38;5;124mIPython won\u001b[39m\u001b[38;5;124m'\u001b[39m\u001b[38;5;124mt let you open fd=\u001b[39m\u001b[38;5;132;01m{\u001b[39;00mfile\u001b[38;5;132;01m}\u001b[39;00m\u001b[38;5;124m by default \u001b[39m\u001b[38;5;124m\"\u001b[39m\n\u001b[0;32m    278\u001b[0m         \u001b[38;5;124m\"\u001b[39m\u001b[38;5;124mas it is likely to crash IPython. If you know what you are doing, \u001b[39m\u001b[38;5;124m\"\u001b[39m\n\u001b[0;32m    279\u001b[0m         \u001b[38;5;124m\"\u001b[39m\u001b[38;5;124myou can use builtins\u001b[39m\u001b[38;5;124m'\u001b[39m\u001b[38;5;124m open.\u001b[39m\u001b[38;5;124m\"\u001b[39m\n\u001b[0;32m    280\u001b[0m     )\n\u001b[1;32m--> 282\u001b[0m \u001b[38;5;28;01mreturn\u001b[39;00m io_open(file, \u001b[38;5;241m*\u001b[39margs, \u001b[38;5;241m*\u001b[39m\u001b[38;5;241m*\u001b[39mkwargs)\n",
      "\u001b[1;31mFileNotFoundError\u001b[0m: [Errno 2] No such file or directory: 'bloodtyp.txt'"
     ]
    }
   ],
   "source": [
    "filename ='bloodtyp.txt'\n",
    "infile = open(filename, 'r')\n",
    "\n",
    "# Answer: Exception Type = File not found - IO error (Erroneous state error)"
   ]
  },
  {
   "cell_type": "markdown",
   "id": "4ac118c9",
   "metadata": {},
   "source": [
    "## Question 10: Encryption"
   ]
  },
  {
   "cell_type": "code",
   "execution_count": 126,
   "id": "797a5582",
   "metadata": {},
   "outputs": [
    {
     "name": "stdout",
     "output_type": "stream",
     "text": [
      "Enter a string: The quick red fox got bored and went home.\n"
     ]
    },
    {
     "data": {
      "text/plain": [
       "dict_values([1, 2, 5, 8, 1, 1, 1, 1, 1, 2, 3, 1, 4, 1, 1, 2, 1, 1, 2, 1, 1, 1])"
      ]
     },
     "execution_count": 126,
     "metadata": {},
     "output_type": "execute_result"
    }
   ],
   "source": [
    "letters = 'abcdefghijklmnopqrstuvwxyz'\n",
    "string = input('Enter a string: ')\n",
    "res = {}\n",
    "resnew = []\n",
    "\n",
    "def frequency(string):\n",
    "    for lett in letters:\n",
    "        for letter in string:\n",
    "            if letter in res:\n",
    "                res[letter] += 1\n",
    "            else:\n",
    "                res[letter] = 1\n",
    "            resnew = res.values()\n",
    "        return resnew\n",
    "    return letters.values()\n",
    "frequency(string)"
   ]
  },
  {
   "cell_type": "code",
   "execution_count": null,
   "id": "50d3837b",
   "metadata": {},
   "outputs": [],
   "source": []
  }
 ],
 "metadata": {
  "kernelspec": {
   "display_name": "Python 3 (ipykernel)",
   "language": "python",
   "name": "python3"
  },
  "language_info": {
   "codemirror_mode": {
    "name": "ipython",
    "version": 3
   },
   "file_extension": ".py",
   "mimetype": "text/x-python",
   "name": "python",
   "nbconvert_exporter": "python",
   "pygments_lexer": "ipython3",
   "version": "3.10.9"
  }
 },
 "nbformat": 4,
 "nbformat_minor": 5
}
